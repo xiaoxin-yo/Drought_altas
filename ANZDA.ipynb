{
 "cells": [
  {
   "cell_type": "code",
   "execution_count": 3,
   "metadata": {
    "collapsed": true
   },
   "outputs": [],
   "source": [
    "import netCDF4\n",
    "import numpy as np\n",
    "import numpy.ma as ma"
   ]
  },
  {
   "cell_type": "code",
   "execution_count": 4,
   "metadata": {
    "collapsed": false
   },
   "outputs": [],
   "source": [
    "anzda_recon_txt = np.loadtxt('/d4/yzhou/Drought_atlas/ANZDA/anzda-recon.txt',skiprows=1)"
   ]
  },
  {
   "cell_type": "code",
   "execution_count": 5,
   "metadata": {
    "collapsed": false
   },
   "outputs": [],
   "source": [
    "time_np = anzda_recon_txt[:,0]"
   ]
  },
  {
   "cell_type": "code",
   "execution_count": 6,
   "metadata": {
    "collapsed": true
   },
   "outputs": [],
   "source": [
    "# delete time from anzda_recon_txt, which is the first element of each row\n",
    "anzda_recon_txt = [row[1:] for row in anzda_recon_txt]"
   ]
  },
  {
   "cell_type": "code",
   "execution_count": 7,
   "metadata": {
    "collapsed": false
   },
   "outputs": [],
   "source": [
    "anzda_pdsi_lon_lat_pair_txt = np.loadtxt('/d4/yzhou/Drought_atlas/ANZDA/anzda-pdsi-xy.txt',usecols=(0,1))"
   ]
  },
  {
   "cell_type": "code",
   "execution_count": 8,
   "metadata": {
    "collapsed": false
   },
   "outputs": [],
   "source": [
    "lat_np = np.arange(-46.75,-11,0.5)"
   ]
  },
  {
   "cell_type": "code",
   "execution_count": 9,
   "metadata": {
    "collapsed": false
   },
   "outputs": [],
   "source": [
    "lon_np = np.arange(136.25,178.5,0.5)"
   ]
  },
  {
   "cell_type": "code",
   "execution_count": 10,
   "metadata": {
    "collapsed": true
   },
   "outputs": [],
   "source": [
    "pdsi_np = np.zeros((len(time_np), len(lon_np), len(lat_np)))"
   ]
  },
  {
   "cell_type": "code",
   "execution_count": 11,
   "metadata": {
    "collapsed": false
   },
   "outputs": [],
   "source": [
    "pdsi_ma = ma.masked_equal(pdsi_np,0)"
   ]
  },
  {
   "cell_type": "code",
   "execution_count": 12,
   "metadata": {
    "collapsed": false
   },
   "outputs": [],
   "source": [
    "anzda_recon_np = np.array(anzda_recon_txt)\n",
    "for i in range(len(anzda_pdsi_lon_lat_pair_txt)):\n",
    "    lon_txt = anzda_pdsi_lon_lat_pair_txt[i][0]\n",
    "    lat_txt = anzda_pdsi_lon_lat_pair_txt[i][1]\n",
    "    lon_index = np.where(lon_np == lon_txt)[0][0]\n",
    "    lat_index = np.where(lat_np == lat_txt)[0][0]\n",
    "    pdsi_ma[:,lon_index,lat_index] = anzda_recon_np[:,i]"
   ]
  },
  {
   "cell_type": "code",
   "execution_count": 13,
   "metadata": {
    "collapsed": true
   },
   "outputs": [],
   "source": [
    "nc = netCDF4.Dataset('/d4/yzhou/Drought_atlas/ANZDA/anzda.nc','w')"
   ]
  },
  {
   "cell_type": "code",
   "execution_count": 14,
   "metadata": {
    "collapsed": false
   },
   "outputs": [
    {
     "data": {
      "text/plain": [
       "<type 'netCDF4._netCDF4.Dimension'>: name = 'time', size = 513"
      ]
     },
     "execution_count": 14,
     "metadata": {},
     "output_type": "execute_result"
    }
   ],
   "source": [
    "nc.createDimension('time', size=len(time_np))"
   ]
  },
  {
   "cell_type": "code",
   "execution_count": 15,
   "metadata": {
    "collapsed": false
   },
   "outputs": [
    {
     "data": {
      "text/plain": [
       "<type 'netCDF4._netCDF4.Dimension'>: name = 'longitude', size = 85"
      ]
     },
     "execution_count": 15,
     "metadata": {},
     "output_type": "execute_result"
    }
   ],
   "source": [
    "nc.createDimension('longitude', size=len(lon_np))"
   ]
  },
  {
   "cell_type": "code",
   "execution_count": 16,
   "metadata": {
    "collapsed": false
   },
   "outputs": [
    {
     "data": {
      "text/plain": [
       "<type 'netCDF4._netCDF4.Dimension'>: name = 'latitude', size = 72"
      ]
     },
     "execution_count": 16,
     "metadata": {},
     "output_type": "execute_result"
    }
   ],
   "source": [
    "nc.createDimension('latitude', size=len(lat_np))"
   ]
  },
  {
   "cell_type": "code",
   "execution_count": 17,
   "metadata": {
    "collapsed": false
   },
   "outputs": [],
   "source": [
    "times = nc.createVariable(\"time\",\"f8\",(\"time\",))\n",
    "latitudes = nc.createVariable(\"latitude\",\"f4\",(\"latitude\",))\n",
    "longitudes = nc.createVariable(\"longitude\",\"f4\",(\"longitude\",))"
   ]
  },
  {
   "cell_type": "code",
   "execution_count": 18,
   "metadata": {
    "collapsed": true
   },
   "outputs": [],
   "source": [
    "pdsi = nc.createVariable(\"pdsi\", \"f4\", (\"time\", \"longitude\", \"latitude\",))"
   ]
  },
  {
   "cell_type": "code",
   "execution_count": 27,
   "metadata": {
    "collapsed": false
   },
   "outputs": [],
   "source": [
    "import time\n",
    "import cf_units\n",
    "nc.title = \"Eastern Australia and New Zealand Drought Atlas (ANZDA)\"\n",
    "nc.history = \"Original data downloaded from https://www.ncdc.noaa.gov/cdo/f?p=519:1:0::::P1_STUDY_ID:20245. Created \" + time.ctime(time.time())\n",
    "nc.file_author = \"Yuxin Zhou yzhou@ldeo.columbia.edu\"\n",
    "nc.reference = \"Jonathan G. Palmer, Edward R. Cook, Chris S.M. Turney, Kathy Allen, Pavla Fenwick, Benjamin I. Cook, Alison O'Donnell, Janice Lough, Pauline Grierson, Patrick Baker. 2015. Drought variability in the eastern Australia and New Zealand summer drought atlas (ANZDA, CE 1500-2012) modulated by the Interdecadal Pacific Oscillation. Environmental Research Letters, 10(12). doi: 10.1088/1748-9326/10/12/124002\"\n",
    "latitudes.units = \"degrees north\"\n",
    "latitudes.long_name = \"latitude\"\n",
    "latitudes.axis = \"Y\"\n",
    "longitudes.units = \"degrees east\"\n",
    "longitudes.long_name = \"longitude\"\n",
    "longitudes.axis = \"X\"\n",
    "pdsi.units = cf_units.Unit('1').format()\n",
    "pdsi.long_name = \"Palmer Drought Severity Index DJF\"\n",
    "pdsi._FillValue = pdsi.fill_value\n",
    "time.units = \"days since 0001-01-01 00:00:00.0\"\n",
    "time.calendar = \"gregorian\"\n",
    "time.axis = \"T\""
   ]
  },
  {
   "cell_type": "code",
   "execution_count": 28,
   "metadata": {
    "collapsed": false
   },
   "outputs": [
    {
     "ename": "AttributeError",
     "evalue": "NetCDF: Attribute not found",
     "output_type": "error",
     "traceback": [
      "\u001b[0;31m---------------------------------------------------------------------------\u001b[0m",
      "\u001b[0;31mAttributeError\u001b[0m                            Traceback (most recent call last)",
      "\u001b[0;32m<ipython-input-28-26472153e28e>\u001b[0m in \u001b[0;36m<module>\u001b[0;34m()\u001b[0m\n\u001b[0;32m----> 1\u001b[0;31m \u001b[0mpdsi\u001b[0m\u001b[0;34m.\u001b[0m\u001b[0mfill_value\u001b[0m\u001b[0;34m\u001b[0m\u001b[0m\n\u001b[0m",
      "\u001b[0;32mnetCDF4/_netCDF4.pyx\u001b[0m in \u001b[0;36mnetCDF4._netCDF4.Variable.__getattr__ (netCDF4/_netCDF4.c:35943)\u001b[0;34m()\u001b[0m\n",
      "\u001b[0;32mnetCDF4/_netCDF4.pyx\u001b[0m in \u001b[0;36mnetCDF4._netCDF4.Variable.getncattr (netCDF4/_netCDF4.c:33305)\u001b[0;34m()\u001b[0m\n",
      "\u001b[0;32mnetCDF4/_netCDF4.pyx\u001b[0m in \u001b[0;36mnetCDF4._netCDF4._get_att (netCDF4/_netCDF4.c:4070)\u001b[0;34m()\u001b[0m\n",
      "\u001b[0;31mAttributeError\u001b[0m: NetCDF: Attribute not found"
     ]
    }
   ],
   "source": [
    "pdsi_.fill_value"
   ]
  },
  {
   "cell_type": "code",
   "execution_count": null,
   "metadata": {
    "collapsed": true
   },
   "outputs": [],
   "source": []
  }
 ],
 "metadata": {
  "anaconda-cloud": {},
  "kernelspec": {
   "display_name": "Python [conda env:DrClimate]",
   "language": "python",
   "name": "conda-env-DrClimate-py"
  },
  "language_info": {
   "codemirror_mode": {
    "name": "ipython",
    "version": 2
   },
   "file_extension": ".py",
   "mimetype": "text/x-python",
   "name": "python",
   "nbconvert_exporter": "python",
   "pygments_lexer": "ipython2",
   "version": "2.7.12"
  }
 },
 "nbformat": 4,
 "nbformat_minor": 1
}
